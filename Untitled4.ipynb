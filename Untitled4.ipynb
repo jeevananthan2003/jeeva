{
 "cells": [
  {
   "cell_type": "code",
   "execution_count": 1,
   "id": "fb333906-415d-43a6-88ae-065a12af6589",
   "metadata": {},
   "outputs": [
    {
     "name": "stdin",
     "output_type": "stream",
     "text": [
      "Enter a number 4321\n"
     ]
    },
    {
     "name": "stdout",
     "output_type": "stream",
     "text": [
      "sum of the digits 10\n"
     ]
    }
   ],
   "source": [
    "n=int(input(\"Enter a number\"))\n",
    "s=0\n",
    "while(n>0):\n",
    "    digit=n%10\n",
    "    s=s+digit\n",
    "    n=n//10\n",
    "print(\"sum of the digits\",s)    "
   ]
  },
  {
   "cell_type": "code",
   "execution_count": 5,
   "id": "d80054dc-960f-46d2-a174-e834a220c627",
   "metadata": {},
   "outputs": [
    {
     "name": "stdin",
     "output_type": "stream",
     "text": [
      "Enter a number 1234\n"
     ]
    },
    {
     "name": "stdout",
     "output_type": "stream",
     "text": [
      "product of the number is: 4\n",
      "product of the number is: 12\n",
      "product of the number is: 24\n",
      "product of the number is: 24\n"
     ]
    }
   ],
   "source": [
    "n=int(input(\"Enter a number\"))\n",
    "s=1\n",
    "while(n>0):\n",
    "    digit=n%10\n",
    "    s=s*digit\n",
    "    n=n//10\n",
    "    print(\"product of the number is:\",s)"
   ]
  },
  {
   "cell_type": "code",
   "execution_count": 9,
   "id": "9ebfad82-5dfe-45ac-a7ec-a11995aea715",
   "metadata": {},
   "outputs": [
    {
     "name": "stdin",
     "output_type": "stream",
     "text": [
      "Enter a number 4536\n"
     ]
    },
    {
     "name": "stdout",
     "output_type": "stream",
     "text": [
      "product: 1800\n"
     ]
    }
   ],
   "source": [
    "n=int(input(\"Enter a number\"))\n",
    "prod=5\n",
    "while(n>0):\n",
    "    digit=n%10\n",
    "    prod = prod*digit\n",
    "    n=n//10\n",
    "print(\"product:\",prod)"
   ]
  },
  {
   "cell_type": "code",
   "execution_count": 12,
   "id": "65071567-1de6-40e0-a19d-602ab2fbea05",
   "metadata": {},
   "outputs": [
    {
     "name": "stdin",
     "output_type": "stream",
     "text": [
      "Enter a number: 6369\n"
     ]
    },
    {
     "name": "stdout",
     "output_type": "stream",
     "text": [
      "5346.0\n"
     ]
    }
   ],
   "source": [
    "num=input(\"Enter a number:\")\n",
    "prod=5.5\n",
    "for i in num:\n",
    "    prod=prod*int(i)\n",
    "print(prod)"
   ]
  },
  {
   "cell_type": "code",
   "execution_count": 22,
   "id": "7d77d0d3-813f-49b5-af4e-61409027017a",
   "metadata": {},
   "outputs": [
    {
     "name": "stdout",
     "output_type": "stream",
     "text": [
      "sum: 200\n"
     ]
    }
   ],
   "source": [
    "s=0\n",
    "for number in range(2,40,4):\n",
    "    s=s+number\n",
    "print(\"sum:\",s)\n"
   ]
  },
  {
   "cell_type": "code",
   "execution_count": 23,
   "id": "eb598f64-53ba-42b9-a12a-f35a24743ce4",
   "metadata": {},
   "outputs": [
    {
     "name": "stdout",
     "output_type": "stream",
     "text": [
      "sum: 425\n"
     ]
    }
   ],
   "source": [
    "s=0\n",
    "for number in range(1,51,3):\n",
    "    s=s+number\n",
    "print(\"sum:\",s)\n",
    "\n"
   ]
  },
  {
   "cell_type": "code",
   "execution_count": 13,
   "id": "68b6bcd0-21ab-4881-b99b-40f0e2d94715",
   "metadata": {},
   "outputs": [
    {
     "name": "stdin",
     "output_type": "stream",
     "text": [
      "enter number 20\n"
     ]
    }
   ],
   "source": [
    "n=int(input(\"enter number\"))\n",
    "s=0\n",
    "for number in range(0,n):\n",
    "    s=s+1\n",
    "    print(s)"
   ]
  },
  {
   "cell_type": "code",
   "execution_count": 18,
   "id": "4954f643-a687-4e17-b7c4-000c8cb9a626",
   "metadata": {},
   "outputs": [
    {
     "name": "stdin",
     "output_type": "stream",
     "text": [
      "enter number 10\n"
     ]
    },
    {
     "name": "stdout",
     "output_type": "stream",
     "text": [
      "10\n",
      "11\n",
      "13\n",
      "16\n",
      "20\n",
      "25\n",
      "31\n",
      "38\n",
      "46\n",
      "55\n"
     ]
    }
   ],
   "source": [
    "n=int(input(\"enter number\"))\n",
    "rev=10\n",
    "while(n>0):\n",
    "    r =n%10\n",
    "    rev=rev*10+r\n",
    "    \n",
    "    print(s)"
   ]
  },
  {
   "cell_type": "code",
   "execution_count": null,
   "id": "9cac6893-276f-48a8-bff3-f21ba317c20f",
   "metadata": {},
   "outputs": [],
   "source": []
  }
 ],
 "metadata": {
  "kernelspec": {
   "display_name": "Python 3 (ipykernel)",
   "language": "python",
   "name": "python3"
  },
  "language_info": {
   "codemirror_mode": {
    "name": "ipython",
    "version": 3
   },
   "file_extension": ".py",
   "mimetype": "text/x-python",
   "name": "python",
   "nbconvert_exporter": "python",
   "pygments_lexer": "ipython3",
   "version": "3.12.7"
  }
 },
 "nbformat": 4,
 "nbformat_minor": 5
}
