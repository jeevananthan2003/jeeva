{
 "cells": [
  {
   "cell_type": "code",
   "execution_count": 2,
   "id": "76c8ddff-c259-469b-a822-814b803e010e",
   "metadata": {},
   "outputs": [
    {
     "name": "stdout",
     "output_type": "stream",
     "text": [
      "list: 1\n",
      "<class 'int'>\n",
      "numpy array: 1\n",
      "<class 'numpy.ndarray'>\n"
     ]
    }
   ],
   "source": [
    "# statement to import the numpy library\n",
    "import numpy as np\n",
    "l=[1,2,3,4]\n",
    "print(\"list:\",1)\n",
    "print(type(1))\n",
    "arr=np.array(1)\n",
    "print(\"numpy array:\",arr)\n",
    "print(type(arr))"
   ]
  },
  {
   "cell_type": "code",
   "execution_count": 6,
   "id": "0ec0ec6d-8926-48a1-8d32-670eea400334",
   "metadata": {},
   "outputs": [
    {
     "name": "stdout",
     "output_type": "stream",
     "text": [
      "<class 'list'>\n",
      "[[1 2]\n",
      " [3 4]]\n",
      "<class 'numpy.ndarray'>\n"
     ]
    }
   ],
   "source": [
    "li = [[1,2],[3,4]]\n",
    "print(type(li))\n",
    "arr1=np.array(li)\n",
    "print(arr1)\n",
    "print(type(arr1))"
   ]
  },
  {
   "cell_type": "code",
   "execution_count": 7,
   "id": "24b5d9eb-3d11-4d41-89eb-e412e530ca5b",
   "metadata": {},
   "outputs": [
    {
     "name": "stdout",
     "output_type": "stream",
     "text": [
      "<class 'list'>\n",
      "[[[1 2 2]\n",
      "  [4 3 4]\n",
      "  [9 5 6]\n",
      "  [5 7 8]]]\n",
      "<class 'numpy.ndarray'>\n"
     ]
    }
   ],
   "source": [
    "c=[[[1,2,2],[4,3,4],[9,5,6],[5,7,8]]]\n",
    "print(type(c))\n",
    "arr2=np.array(c)\n",
    "print(arr2)\n",
    "print(type(arr2))"
   ]
  },
  {
   "cell_type": "code",
   "execution_count": null,
   "id": "83136138-de35-4c2f-ac3b-f48c079269b0",
   "metadata": {},
   "outputs": [],
   "source": []
  },
  {
   "cell_type": "code",
   "execution_count": null,
   "id": "5cfa8562-ebd3-43cc-a13d-1be4c77bb7b6",
   "metadata": {},
   "outputs": [],
   "source": []
  }
 ],
 "metadata": {
  "kernelspec": {
   "display_name": "Python 3 (ipykernel)",
   "language": "python",
   "name": "python3"
  },
  "language_info": {
   "codemirror_mode": {
    "name": "ipython",
    "version": 3
   },
   "file_extension": ".py",
   "mimetype": "text/x-python",
   "name": "python",
   "nbconvert_exporter": "python",
   "pygments_lexer": "ipython3",
   "version": "3.12.7"
  }
 },
 "nbformat": 4,
 "nbformat_minor": 5
}
